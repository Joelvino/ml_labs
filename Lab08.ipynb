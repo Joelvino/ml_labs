{
  "nbformat": 4,
  "nbformat_minor": 0,
  "metadata": {
    "colab": {
      "name": "Lab08",
      "provenance": [],
      "collapsed_sections": [],
      "toc_visible": true,
      "include_colab_link": true
    },
    "kernelspec": {
      "display_name": "Python 3",
      "name": "python3"
    }
  },
  "cells": [
    {
      "cell_type": "markdown",
      "metadata": {
        "id": "view-in-github",
        "colab_type": "text"
      },
      "source": [
        "<a href=\"https://colab.research.google.com/github/YorkU-Cameroon/ml_labs/blob/main/Lab08.ipynb\" target=\"_parent\"><img src=\"https://colab.research.google.com/assets/colab-badge.svg\" alt=\"Open In Colab\"/></a>"
      ]
    },
    {
      "cell_type": "markdown",
      "metadata": {
        "id": "v17JwAVa0vex"
      },
      "source": [
        "# Learning Objectives\n",
        "\n",
        "#### Introducing Transfer Learning\n",
        "#### High level understaning of neural network layers\n",
        "#### How to train networks that are on a par with other state-of-the-art models\n",
        "\n",
        "\n",
        "# Questions\n",
        "\n",
        "#### What are dropouts? \n",
        "#### What is Fine-tuning?\n",
        "#### Name 5 steps of Fine Tuning?\n",
        "#### What do we mean by Transfer Learning ?\n",
        "#### Why do we sometimes Freeze some part of a model?\n",
        "#### which part of a model is for Features extract and what part is responsible for classification ?\n",
        "\n",
        "\n",
        "\n"
      ]
    },
    {
      "cell_type": "markdown",
      "metadata": {
        "id": "jxf544rmTL3u"
      },
      "source": [
        "# Configure if pre-trained models are used\r\n",
        "\r\n",
        "For this lab by default we will use pre-trained models and history variables because you will not have time to train these models but we have provided the code should you want to try on your own time. (If you want to try doing the training simply uncheck the box below)\r\n",
        "\r\n",
        "This is particularly important for cats_and_dogs_small_4.h5\r\n",
        "\r\n",
        "It could take over 10 hours to train depending on the CPU/GPU capacity !!!"
      ]
    },
    {
      "cell_type": "code",
      "metadata": {
        "cellView": "form",
        "id": "YtAuqkBY3iRb"
      },
      "source": [
        "use_saved_model = True #@param {type:\"boolean\"}\n"
      ],
      "execution_count": null,
      "outputs": []
    },
    {
      "cell_type": "code",
      "metadata": {
        "id": "y6BbpHpfqjhd",
        "colab": {
          "base_uri": "https://localhost:8080/",
          "height": 35
        },
        "outputId": "dedb2861-5cd8-4cc6-f5dc-a890a8a6909e"
      },
      "source": [
        "## Transfer Learning is using the pre-trained model and customized it to our own data\n",
        "\n",
        "import keras\n",
        "\n",
        "keras.__version__\n",
        "\n"
      ],
      "execution_count": null,
      "outputs": [
        {
          "output_type": "execute_result",
          "data": {
            "application/vnd.google.colaboratory.intrinsic+json": {
              "type": "string"
            },
            "text/plain": [
              "'2.4.3'"
            ]
          },
          "metadata": {
            "tags": []
          },
          "execution_count": 2
        }
      ]
    },
    {
      "cell_type": "markdown",
      "metadata": {
        "id": "TaSwsWXZA6xi"
      },
      "source": [
        "# Downloading our data set\r\n"
      ]
    },
    {
      "cell_type": "code",
      "metadata": {
        "id": "RC4q066S_CZB"
      },
      "source": [
        "!wget --no-check-certificate https://filetransfer.io/data-package/YTrkn3Yk/download -O /content/all.zip"
      ],
      "execution_count": null,
      "outputs": []
    },
    {
      "cell_type": "code",
      "metadata": {
        "id": "lOH9WtUQBCzq"
      },
      "source": [
        "# Note this cell may take a long time to run but will show no output because it would have shown over 5000 lines of output and require a lot of scrolling\r\n",
        "from pathlib import Path\r\n",
        "!unzip all.zip > /dev/null\r\n",
        "Path('/content/data').mkdir(parents=True, exist_ok=True)\r\n",
        "!unzip test1.zip -d /content/data > /dev/null\r\n",
        "!unzip train.zip -d /content/data > /dev/null"
      ],
      "execution_count": null,
      "outputs": []
    },
    {
      "cell_type": "markdown",
      "metadata": {
        "id": "MYxz_9V5CPoP"
      },
      "source": [
        "# Importing VGG16"
      ]
    },
    {
      "cell_type": "code",
      "metadata": {
        "id": "SqGU57_SGRnH",
        "colab": {
          "base_uri": "https://localhost:8080/"
        },
        "outputId": "00032a65-9d62-4b64-8d27-5abc58ac5a34"
      },
      "source": [
        "#From the input layer to the last max pooling layer is \r\n",
        "#regarded as the feature extraction part of the model, while the rest of the \r\n",
        "#network is regarded as the classification part of the model.\r\n",
        "\r\n",
        "\r\n",
        "################################################################\r\n",
        "########### importing th VGG16 without its last layers ##########\r\n",
        "################################################################\r\n",
        "\r\n",
        "\r\n",
        "from keras.applications import VGG16\r\n",
        "\r\n",
        "conv_base = VGG16(weights='imagenet',\r\n",
        "                  include_top=False,\r\n",
        "                  input_shape=(150, 150, 3))"
      ],
      "execution_count": null,
      "outputs": [
        {
          "output_type": "stream",
          "text": [
            "Downloading data from https://storage.googleapis.com/tensorflow/keras-applications/vgg16/vgg16_weights_tf_dim_ordering_tf_kernels_notop.h5\n",
            "58892288/58889256 [==============================] - 0s 0us/step\n"
          ],
          "name": "stdout"
        }
      ]
    },
    {
      "cell_type": "code",
      "metadata": {
        "id": "fIiKHm-UtGbz"
      },
      "source": [
        "############################################################\n",
        "########### Imporiting and partitioning the data ##########\n",
        "############################################################\n",
        "#These new last layers will give us the featrues now\n",
        "\n",
        "import shutil\n",
        "\n",
        "# The path to the directory where the original\n",
        "# dataset was uncompressed\n",
        "original_dataset_dir = '/content/data/train'\n",
        "\n",
        "# The directory where we will\n",
        "# store our smaller dataset\n",
        "base_dir = '/content/data/transfer-learning'\n",
        "\n",
        "# Directories for our training,\n",
        "# validation and test splits\n",
        "train_dir = os.path.join(base_dir, 'train')\n",
        "Path(train_dir).mkdir(parents=True, exist_ok=True)\n",
        "validation_dir = os.path.join(base_dir, 'validation')\n",
        "Path(validation_dir).mkdir(parents=True, exist_ok=True)\n",
        "test_dir = os.path.join(base_dir, 'test')\n",
        "Path(test_dir).mkdir(parents=True, exist_ok=True)\n",
        "\n",
        "# Directory with our training cat pictures\n",
        "train_cats_dir = os.path.join(train_dir, 'cats')\n",
        "Path(train_cats_dir).mkdir(parents=True, exist_ok=True)\n",
        "\n",
        "# Directory with our training dog pictures\n",
        "train_dogs_dir = os.path.join(train_dir, 'dogs')\n",
        "Path(train_dogs_dir).mkdir(parents=True, exist_ok=True)\n",
        "\n",
        "# Directory with our validation cat pictures\n",
        "validation_cats_dir = os.path.join(validation_dir, 'cats')\n",
        "Path(validation_cats_dir).mkdir(parents=True, exist_ok=True)\n",
        "\n",
        "# Directory with our validation dog pictures\n",
        "validation_dogs_dir = os.path.join(validation_dir, 'dogs')\n",
        "Path(validation_dogs_dir).mkdir(parents=True, exist_ok=True)\n",
        "\n",
        "# Directory with our validation cat pictures\n",
        "test_cats_dir = os.path.join(test_dir, 'cats')\n",
        "Path(test_cats_dir).mkdir(parents=True, exist_ok=True)\n",
        "\n",
        "# Directory with our validation dog pictures\n",
        "test_dogs_dir = os.path.join(test_dir, 'dogs')\n",
        "Path(test_dogs_dir).mkdir(parents=True, exist_ok=True)\n",
        "\n",
        "# Copy first 1000 cat images to train_cats_dir\n",
        "fnames = ['cat.{}.jpg'.format(i) for i in range(1000)]\n",
        "for fname in fnames:\n",
        "    src = os.path.join(original_dataset_dir, fname)\n",
        "    dst = os.path.join(train_cats_dir, fname)\n",
        "    shutil.copyfile(src, dst)\n",
        "\n",
        "# Copy next 500 cat images to validation_cats_dir\n",
        "fnames = ['cat.{}.jpg'.format(i) for i in range(1000, 1500)]\n",
        "for fname in fnames:\n",
        "    src = os.path.join(original_dataset_dir, fname)\n",
        "    dst = os.path.join(validation_cats_dir, fname)\n",
        "    shutil.copyfile(src, dst)\n",
        "    \n",
        "# Copy next 500 cat images to test_cats_dir\n",
        "fnames = ['cat.{}.jpg'.format(i) for i in range(1500, 2000)]\n",
        "for fname in fnames:\n",
        "    src = os.path.join(original_dataset_dir, fname)\n",
        "    dst = os.path.join(test_cats_dir, fname)\n",
        "    shutil.copyfile(src, dst)\n",
        "    \n",
        "# Copy first 1000 dog images to train_dogs_dir\n",
        "fnames = ['dog.{}.jpg'.format(i) for i in range(1000)]\n",
        "for fname in fnames:\n",
        "    src = os.path.join(original_dataset_dir, fname)\n",
        "    dst = os.path.join(train_dogs_dir, fname)\n",
        "    shutil.copyfile(src, dst)\n",
        "    \n",
        "# Copy next 500 dog images to validation_dogs_dir\n",
        "fnames = ['dog.{}.jpg'.format(i) for i in range(1000, 1500)]\n",
        "for fname in fnames:\n",
        "    src = os.path.join(original_dataset_dir, fname)\n",
        "    dst = os.path.join(validation_dogs_dir, fname)\n",
        "    shutil.copyfile(src, dst)\n",
        "    \n",
        "# Copy next 500 dog images to test_dogs_dir\n",
        "fnames = ['dog.{}.jpg'.format(i) for i in range(1500, 2000)]\n",
        "for fname in fnames:\n",
        "    src = os.path.join(original_dataset_dir, fname)\n",
        "    dst = os.path.join(test_dogs_dir, fname)\n",
        "    shutil.copyfile(src, dst)"
      ],
      "execution_count": null,
      "outputs": []
    },
    {
      "cell_type": "markdown",
      "metadata": {
        "id": "aFhUq4_iCWiH"
      },
      "source": [
        "# Feature extraction"
      ]
    },
    {
      "cell_type": "code",
      "metadata": {
        "colab": {
          "base_uri": "https://localhost:8080/"
        },
        "id": "i917J2tOxLcd",
        "outputId": "5005844e-d2ec-486f-cdab-b54e9f042670"
      },
      "source": [
        "import os\n",
        "import numpy as np\n",
        "from tensorflow.keras.preprocessing.image import ImageDataGenerator\n",
        "\n",
        "train_dir = os.path.join(base_dir, 'train')\n",
        "validation_dir = os.path.join(base_dir, 'validation')\n",
        "test_dir = os.path.join(base_dir, 'test')\n",
        "\n",
        "## rescale: rescaling factor. Defaults to None. \n",
        "## If None or 0, no rescaling is applied, otherwise we multiply the data by the\n",
        "## value provided (after applying all other transformations).\n",
        "## rescale pixle to make them between 0 and 1. since our orginal rgb number are between 0 to 255\n",
        "\n",
        "datagen = ImageDataGenerator(rescale=1./255)\n",
        "batch_size = 20\n",
        "\n",
        "\n",
        "\n",
        "# Gettign feature for ONLY one image \n",
        "\n",
        "#from keras.preprocessing import image\n",
        "#from keras.applications.vgg16 import VGG16\n",
        "#from keras.applications.vgg16 import preprocess_input\n",
        "#import numpy as np\n",
        "#model = VGG16(weights='imagenet', include_top=False)\n",
        "#model.summary()\n",
        "#img_path = 'train/dogs/1.jpg'\n",
        "#img = image.load_img(img_path, target_size=(224, 224))\n",
        "#img_data = image.img_to_array(img)\n",
        "#img_data = np.expand_dims(img_data, axis=0)\n",
        "#img_data = preprocess_input(img_data)\n",
        "#vgg16_feature = model.predict(img_data)\n",
        "#print vgg16_feature.shape\n",
        "\n",
        "\n",
        "# OR DEFINE IT AS A FUNCTION ! and populate features and labels numpy arrays\n",
        "\n",
        "######################################################################\n",
        "########### Outer last layers will give us the featrues now ##########\n",
        "######################################################################\n",
        "\n",
        "def extract_features(directory, sample_count):\n",
        "    features = np.zeros(shape=(sample_count, 4, 4, 512))\n",
        "    labels = np.zeros(shape=(sample_count))\n",
        "\n",
        "    ## getting data from datagen object \n",
        "    ## the outputs look like one of the form \n",
        "                     # - (inputs, targets)    \n",
        "                     # - (input, targets, sample_weights)\n",
        "\n",
        "    generator = datagen.flow_from_directory(\n",
        "        directory,\n",
        "        target_size=(150, 150),\n",
        "        batch_size=batch_size,\n",
        "        class_mode='binary')\n",
        "    i = 0\n",
        "\n",
        "    ## here are are populating Features and Labels numpy array with the data\n",
        "    ## in datagen object using the flow_from_directory \n",
        "\n",
        "    for inputs_batch, labels_batch in generator:\n",
        "        features_batch = conv_base.predict(inputs_batch)\n",
        "        features[i * batch_size : (i + 1) * batch_size] = features_batch\n",
        "        labels[i * batch_size : (i + 1) * batch_size] = labels_batch\n",
        "        i += 1\n",
        "        if i * batch_size >= sample_count:\n",
        "            # Note that since generators yield data indefinitely in a loop,\n",
        "            # we must `break` after every image has been seen once.\n",
        "            break\n",
        "    return features, labels\n",
        "\n",
        "#\n",
        "#\n",
        "## THIS COULD TAKE SOME TIME SO DON'T WORRY... YOU SHOULD SEE THE FOLLOWING OUTPUT:\n",
        "# (it will take time to show each of the following lines sequentially)\n",
        "#\n",
        "# Found 2000 images belonging to 2 classes.\n",
        "# Found 1000 images belonging to 2 classes.\n",
        "# Found 1000 images belonging to 2 classes.\n",
        "#\n",
        "#\n",
        "#\n",
        "train_features, train_labels = extract_features(train_dir, 2000)\n",
        "validation_features, validation_labels = extract_features(validation_dir, 1000)\n",
        "test_features, test_labels = extract_features(test_dir, 1000)"
      ],
      "execution_count": null,
      "outputs": [
        {
          "output_type": "stream",
          "text": [
            "Found 2000 images belonging to 2 classes.\n",
            "Found 1000 images belonging to 2 classes.\n",
            "Found 1000 images belonging to 2 classes.\n"
          ],
          "name": "stdout"
        }
      ]
    },
    {
      "cell_type": "code",
      "metadata": {
        "id": "SWg-paNN1esl"
      },
      "source": [
        "## Changing the Dimetion , to make them flatten\n",
        "\n",
        "train_features = np.reshape(train_features, (2000, 4 * 4 * 512))\n",
        "validation_features = np.reshape(validation_features, (1000, 4 * 4 * 512))\n",
        "test_features = np.reshape(test_features, (1000, 4 * 4 * 512))\n",
        "\n"
      ],
      "execution_count": null,
      "outputs": []
    },
    {
      "cell_type": "markdown",
      "metadata": {
        "id": "gnoch6QBiypj"
      },
      "source": [
        "#Create a Model\n",
        "with a dense layer with relu activation function. Add a dropout layer with rate 0.5. Output a binary result using sigmoid function"
      ]
    },
    {
      "cell_type": "code",
      "metadata": {
        "id": "t0wld5RQ1piZ"
      },
      "source": [
        "## At this point, we can define our densely-connected ##classifier \n",
        "\n",
        "##(note the use of dropout for regularization ), and train it on the data and labels that we just recorded:\n",
        "## droup out help us to leave a portion of traning data aside in each iteration so that we can decrease the chance of having overfitting.\n",
        "## making sure the previously trained weight does not CHANGE!\n",
        "\n",
        "if not use_saved_model:\n",
        "  from keras import models\n",
        "  from keras import layers\n",
        "  from keras import optimizers\n",
        "\n",
        "  model = models.Sequential()\n",
        "\n",
        "  model.add(layers.Dense(256, activation='relu', input_dim=4 * 4 * 512))\n",
        "  model.add(layers.Dropout(0.5))\n",
        "  model.add(layers.Dense(1, activation='sigmoid'))\n",
        "\n",
        "  model.compile(optimizer=optimizers.RMSprop(lr=2e-5),\n",
        "                loss='binary_crossentropy',\n",
        "                metrics=['acc'])\n",
        "\n",
        "  ## we have used the pre-trained features and only training the last 3 layers above.\n",
        "\n",
        "\n",
        "  history = model.fit(train_features, train_labels,\n",
        "                      epochs=30,\n",
        "                      batch_size=20,\n",
        "                      validation_data=(validation_features, validation_labels))\n",
        "\n",
        "else:\n",
        "  import json\n",
        "  !wget 'https://drive.google.com/uc?export=download&id=1i7OxvA0kx50VnFKQdhoynbJVXdRx0khp' -O history1.json\n",
        "  # Loading the history data \n",
        "  with open('history1.json') as f:\n",
        "    history = type('',(),{'history': json.load(f)})"
      ],
      "execution_count": null,
      "outputs": []
    },
    {
      "cell_type": "markdown",
      "metadata": {
        "id": "aNybGA3LCqfb"
      },
      "source": [
        "# Ploting the results"
      ]
    },
    {
      "cell_type": "code",
      "metadata": {
        "id": "3YvmWfId2Eoq",
        "colab": {
          "base_uri": "https://localhost:8080/",
          "height": 545
        },
        "outputId": "48466832-3ec7-4507-c392-4eb8978f08d8"
      },
      "source": [
        "#Training is very fast, since we only have to deal with two `Dense` layers -- \n",
        "# an epoch takes less than one second even on CPU.\n",
        "\n",
        "\n",
        "#Let's take a look at the loss and accuracy curves during training:\n",
        "\n",
        "import matplotlib.pyplot as plt\n",
        "\n",
        "acc = history.history['acc']\n",
        "val_acc = history.history['val_acc']\n",
        "loss = history.history['loss']\n",
        "val_loss = history.history['val_loss']\n",
        "\n",
        "########################################################################################\n",
        "################# Stduent task : Using the 4 above vectors, Plot  ######################\n",
        "########################################################################################\n",
        "# Training and validation accuracy as well as Training and validation loss\n",
        "# also try to interpret the resulting plots.\n",
        "\n",
        "\n",
        "epochs = range(len(acc))\n",
        "\n",
        "plt.plot(epochs, acc, 'bo', label='Training acc')\n",
        "plt.plot(epochs, val_acc, 'b', label='Validation acc')\n",
        "plt.title('Training and validation accuracy')\n",
        "plt.legend()\n",
        "\n",
        "plt.figure()\n",
        "\n",
        "plt.plot(epochs, loss, 'bo', label='Training loss')\n",
        "plt.plot(epochs, val_loss, 'b', label='Validation loss')\n",
        "plt.title('Training and validation loss')\n",
        "plt.legend()\n",
        "\n",
        "plt.show()"
      ],
      "execution_count": null,
      "outputs": [
        {
          "output_type": "display_data",
          "data": {
            "image/png": "[encoded data removed]",
            "text/plain": [
              "<Figure size 432x288 with 1 Axes>"
            ]
          },
          "metadata": {
            "tags": [],
            "needs_background": "light"
          }
        },
        {
          "output_type": "display_data",
          "data": {
            "image/png": "[encoded data removed]",
            "text/plain": [
              "<Figure size 432x288 with 1 Axes>"
            ]
          },
          "metadata": {
            "tags": [],
            "needs_background": "light"
          }
        }
      ]
    },
    {
      "cell_type": "markdown",
      "metadata": {
        "id": "wiJkHPOBCx4z"
      },
      "source": [
        "# Retraining model with some frozen layers"
      ]
    },
    {
      "cell_type": "code",
      "metadata": {
        "id": "LHAHeMkHeGsL"
      },
      "source": [
        "## lets now add our previously trained model ( make sure to freeze it so weights do not change)\n",
        "\n",
        "from keras import models\n",
        "from keras import layers\n",
        "\n",
        "model = models.Sequential()\n",
        "model.add(conv_base)\n",
        "model.add(layers.Flatten())\n",
        "model.add(layers.Dense(256, activation='relu'))\n",
        "model.add(layers.Dense(1, activation='sigmoid'))\n",
        "\n",
        "## freezing pre-trained model\n",
        "conv_base.trainable = False\n"
      ],
      "execution_count": null,
      "outputs": []
    },
    {
      "cell_type": "markdown",
      "metadata": {
        "id": "ufg4csygC9JK"
      },
      "source": [
        "# Data Agumentation"
      ]
    },
    {
      "cell_type": "code",
      "metadata": {
        "id": "Mpirz57Btm6O",
        "colab": {
          "base_uri": "https://localhost:8080/"
        },
        "outputId": "0ba9661a-5d8c-4984-95f3-c468ecb5cd50"
      },
      "source": [
        "# With this setup, only the weights from the two Dense layers that we added will be trained.\n",
        "# That's a total of four weight tensors: two per layer (the main weight matrix and the bias vector). \n",
        "\n",
        "##What does data augmentation mean?\n",
        "  #Data augmentation is a strategy that enables practitioners to significantly \n",
        "  #increase the diversity of data available for training models, without actually\n",
        "  #collecting new data. Data augmentation techniques such as cropping, padding, \n",
        "  #and horizontal flipping are commonly used to train large neural networks\n",
        "\n",
        "from keras.preprocessing.image import ImageDataGenerator\n",
        "\n",
        "train_datagen = ImageDataGenerator(\n",
        "      rescale=1./255,\n",
        "      rotation_range=40,\n",
        "      width_shift_range=0.2,\n",
        "      height_shift_range=0.2,\n",
        "      shear_range=0.2,\n",
        "      zoom_range=0.2,\n",
        "      horizontal_flip=True,\n",
        "      fill_mode='nearest')\n",
        "\n",
        "# Note that the validation data should not be augmented!\n",
        "test_datagen = ImageDataGenerator(rescale=1./255)\n",
        "\n",
        "train_generator = train_datagen.flow_from_directory(\n",
        "        # This is the target directory\n",
        "        train_dir,\n",
        "        # All images will be resized to 150x150\n",
        "        target_size=(150, 150),\n",
        "        batch_size=20,\n",
        "        # Since we use binary_crossentropy loss, we need binary labels\n",
        "        class_mode='binary')\n",
        "\n",
        "validation_generator = test_datagen.flow_from_directory(\n",
        "        validation_dir,\n",
        "        target_size=(150, 150),\n",
        "        batch_size=20,\n",
        "        class_mode='binary')\n"
      ],
      "execution_count": null,
      "outputs": [
        {
          "output_type": "stream",
          "text": [
            "Found 2000 images belonging to 2 classes.\n",
            "Found 1000 images belonging to 2 classes.\n"
          ],
          "name": "stdout"
        }
      ]
    },
    {
      "cell_type": "markdown",
      "metadata": {
        "id": "X5MlvapY_pUc"
      },
      "source": [
        "\n",
        "**run** the following section if you have just loaded the pretrained model in the previous cell"
      ]
    },
    {
      "cell_type": "code",
      "metadata": {
        "id": "Qz8Q6OFHtvPy"
      },
      "source": [
        "# .fit .fit_generator .fit_batch\n",
        "\n",
        "### .fit:\n",
        "  #Our entire training set can fit into RAM\n",
        "  #There is no data augmentation going on (i.e., there is no need for Keras generators)\n",
        "\n",
        "### .fit_generator:\n",
        "  #Data are usually not that simple, so we might need data augmentation for better generalization\n",
        "  #The generator function yields a batch of size BS  to the .fit_generator  function.\n",
        "  #.fit_generator  function accepts the batch of data, performs backpropagation, and updates the weights in our model.\n",
        "  ##steps_per_epoch ?\n",
        "  #we compute the steps_per_epoch  value as the total number of training data \n",
        "  #points divided by the batch size. Once Keras hits this step \n",
        "  #count it knows that it’s a new epoch.\n",
        "\n",
        "\n",
        "\n",
        "#\n",
        "## THIS SECTION WILL ALSO TAKE SOME TIME TO RUN THROUGH ALL 50 EPOCHS \n",
        "# (quite a bit of time)\n",
        "# don't worry about any deprecated flags - these are resolved\n",
        "# NB: Not run if loading instead\n",
        "#\n",
        "\n",
        "if not use_saved_model:\n",
        "  model.compile(loss='binary_crossentropy',\n",
        "                optimizer=optimizers.RMSprop(lr=2e-5),\n",
        "                metrics=['acc'])\n",
        "\n",
        "  history = model.fit_generator(\n",
        "        train_generator,\n",
        "        #steps_per_epoch=100,\n",
        "        steps_per_epoch=10,\n",
        "        #epochs=30,\n",
        "        epochs=50,\n",
        "        validation_data=validation_generator,\n",
        "        validation_steps=5\n",
        "        #validation_steps=50\n",
        "        #,verbose=2)\n",
        "  )\n",
        "\n",
        "else:\n",
        "  import json\n",
        "  !wget 'https://drive.google.com/uc?export=download&id=1N9fPnfWnDTGhzJllNqrLxeRaJeoC3IUJ' -O history2.json\n",
        "  # Loading the history data \n",
        "  with open('history2.json') as f:\n",
        "    history = type('',(),{'history':json.load(f)})\n"
      ],
      "execution_count": null,
      "outputs": []
    },
    {
      "cell_type": "code",
      "metadata": {
        "id": "jgryv9Z4wKrX",
        "colab": {
          "base_uri": "https://localhost:8080/",
          "height": 545
        },
        "outputId": "a606e798-e283-427c-e4d3-2f4ec791f0eb"
      },
      "source": [
        "\n",
        "\n",
        "acc = history.history['acc']\n",
        "val_acc = history.history['val_acc']\n",
        "loss = history.history['loss']\n",
        "val_loss = history.history['val_loss']\n",
        "\n",
        "epochs = range(len(acc))\n",
        "\n",
        "plt.plot(epochs, acc, 'bo', label='Training acc')\n",
        "plt.plot(epochs, val_acc, 'b', label='Validation acc')\n",
        "plt.title('Training and validation accuracy')\n",
        "plt.legend()\n",
        "\n",
        "plt.figure()\n",
        "\n",
        "plt.plot(epochs, loss, 'bo', label='Training loss')\n",
        "plt.plot(epochs, val_loss, 'b', label='Validation loss')\n",
        "plt.title('Training and validation loss')\n",
        "plt.legend()\n",
        "\n",
        "plt.show()"
      ],
      "execution_count": null,
      "outputs": [
        {
          "output_type": "display_data",
          "data": {
            "image/png": "[encoded data removed]",
            "text/plain": [
              "<Figure size 432x288 with 1 Axes>"
            ]
          },
          "metadata": {
            "tags": [],
            "needs_background": "light"
          }
        },
        {
          "output_type": "display_data",
          "data": {
            "image/png": "[encoded data removed]",
            "text/plain": [
              "<Figure size 432x288 with 1 Axes>"
            ]
          },
          "metadata": {
            "tags": [],
            "needs_background": "light"
          }
        }
      ]
    },
    {
      "cell_type": "code",
      "metadata": {
        "id": "X6KUqvcBzPfg",
        "colab": {
          "base_uri": "https://localhost:8080/"
        },
        "outputId": "4ced29d4-3e16-4536-871a-5cf72b9c854d"
      },
      "source": [
        "# BUT what is FINE TUNING \n",
        "# Fine-tuning Another widely used technique for model reuse, complementary to feature extraction, \n",
        "#is fine-tuning. Fine-tuning consists in unfreezing a few of the top layers of a frozen model base used for feature extraction, and jointly training both the newly\n",
        "#  added part of the model (in our case, the fully-connected classifier) and these top layers.\n",
        "\n",
        "\n",
        "# HERE ARE THE STEPS\n",
        "#1) Add your custom network on top of an already trained base network. (We have already completed the first 3 steps when doing feature extraction.)\n",
        "#2) Freeze the base network. (We have already completed the first 3 steps when doing feature extraction.)\n",
        "#3) Train the part you added. (We have already completed the first 3 steps when doing feature extraction.)\n",
        "#4) Unfreeze some layers in the base network.\n",
        "#5) Jointly train both these layers and the part you added.\n",
        "\n",
        "\n",
        "conv_base.summary()\n"
      ],
      "execution_count": null,
      "outputs": [
        {
          "output_type": "stream",
          "text": [
            "Model: \"vgg16\"\n",
            "_________________________________________________________________\n",
            "Layer (type)                 Output Shape              Param #   \n",
            "=================================================================\n",
            "input_1 (InputLayer)         [(None, 150, 150, 3)]     0         \n",
            "_________________________________________________________________\n",
            "block1_conv1 (Conv2D)        (None, 150, 150, 64)      1792      \n",
            "_________________________________________________________________\n",
            "block1_conv2 (Conv2D)        (None, 150, 150, 64)      36928     \n",
            "_________________________________________________________________\n",
            "block1_pool (MaxPooling2D)   (None, 75, 75, 64)        0         \n",
            "_________________________________________________________________\n",
            "block2_conv1 (Conv2D)        (None, 75, 75, 128)       73856     \n",
            "_________________________________________________________________\n",
            "block2_conv2 (Conv2D)        (None, 75, 75, 128)       147584    \n",
            "_________________________________________________________________\n",
            "block2_pool (MaxPooling2D)   (None, 37, 37, 128)       0         \n",
            "_________________________________________________________________\n",
            "block3_conv1 (Conv2D)        (None, 37, 37, 256)       295168    \n",
            "_________________________________________________________________\n",
            "block3_conv2 (Conv2D)        (None, 37, 37, 256)       590080    \n",
            "_________________________________________________________________\n",
            "block3_conv3 (Conv2D)        (None, 37, 37, 256)       590080    \n",
            "_________________________________________________________________\n",
            "block3_pool (MaxPooling2D)   (None, 18, 18, 256)       0         \n",
            "_________________________________________________________________\n",
            "block4_conv1 (Conv2D)        (None, 18, 18, 512)       1180160   \n",
            "_________________________________________________________________\n",
            "block4_conv2 (Conv2D)        (None, 18, 18, 512)       2359808   \n",
            "_________________________________________________________________\n",
            "block4_conv3 (Conv2D)        (None, 18, 18, 512)       2359808   \n",
            "_________________________________________________________________\n",
            "block4_pool (MaxPooling2D)   (None, 9, 9, 512)         0         \n",
            "_________________________________________________________________\n",
            "block5_conv1 (Conv2D)        (None, 9, 9, 512)         2359808   \n",
            "_________________________________________________________________\n",
            "block5_conv2 (Conv2D)        (None, 9, 9, 512)         2359808   \n",
            "_________________________________________________________________\n",
            "block5_conv3 (Conv2D)        (None, 9, 9, 512)         2359808   \n",
            "_________________________________________________________________\n",
            "block5_pool (MaxPooling2D)   (None, 4, 4, 512)         0         \n",
            "=================================================================\n",
            "Total params: 14,714,688\n",
            "Trainable params: 0\n",
            "Non-trainable params: 14,714,688\n",
            "_________________________________________________________________\n"
          ],
          "name": "stdout"
        }
      ]
    },
    {
      "cell_type": "markdown",
      "metadata": {
        "id": "ocd8m_sfFWDx"
      },
      "source": [
        "Why not fine-tune more layers? Why not fine-tune the entire convolutional base? We could. However, we need to consider that:\n",
        "\n",
        "Earlier layers in the convolutional base encode more generic, reusable features, while layers higher up encode more specialized features. It is more useful to fine-tune the more specialized features, as these are the ones that need to be repurposed on our new problem. There would be fast-decreasing returns in fine-tuning lower layers.\n",
        "The more parameters we are training, the more we are at risk of overfitting. The convolutional base has 15M parameters, so it would be risky to attempt to train it on our small dataset.\n",
        "Thus, in our situation, it is a good strategy to only fine-tune the top 2 to 3 layers in the convolutional base.\n",
        "\n",
        "Let's set this up, starting from where we left off in the previous example:"
      ]
    },
    {
      "cell_type": "code",
      "metadata": {
        "id": "CXODhBBeFYEb"
      },
      "source": [
        "conv_base.trainable = True\n",
        "\n",
        "set_trainable = False\n",
        "for layer in conv_base.layers:\n",
        "    if layer.name == 'block5_conv1':\n",
        "        set_trainable = True\n",
        "    if set_trainable:\n",
        "        layer.trainable = True\n",
        "    else:\n",
        "        layer.trainable = False"
      ],
      "execution_count": null,
      "outputs": []
    },
    {
      "cell_type": "markdown",
      "metadata": {
        "id": "2yKCDxh4AfPU"
      },
      "source": [
        "!!!\r\n",
        "\r\n",
        "!!! The next cell is code to train cats_and_dogs_small_4.h5\r\n",
        "\r\n",
        "!!! It could take over 10 hours to train depending on the CPU/GPU capacity\r\n",
        "\r\n",
        "!!! Therefore load the model instead but understand the section before moving on\r\n",
        "\r\n",
        "!!!\r\n"
      ]
    },
    {
      "cell_type": "code",
      "metadata": {
        "id": "tA-5tOysJHt3"
      },
      "source": [
        "#\n",
        "# This section takes a very long time to run - however in the next cell you will be able to load a pre-trained model\n",
        "# the code is supplied for your curiosity and benefit\n",
        "\n",
        "#\n",
        "# model.compile(loss='binary_crossentropy',\n",
        "#               optimizer=optimizers.RMSprop(lr=1e-5),\n",
        "#               metrics=['acc'])\n",
        "\n",
        "# history = model.fit_generator(\n",
        "#       train_generator,\n",
        "#       steps_per_epoch=100,\n",
        "#       epochs=100,\n",
        "#       validation_data=validation_generator,\n",
        "#       validation_steps=50)\n",
        "\n"
      ],
      "execution_count": null,
      "outputs": []
    },
    {
      "cell_type": "code",
      "metadata": {
        "id": "A0nY8dssJMWP"
      },
      "source": [
        "# \n",
        "# ONLY UNCOMMENT AND RUN IF YOU ARE TRAINING THE MODEL (FROM PREVIOUS CELL) ON YOUR OWN TIME\n",
        "# \n",
        "# model.save('cats_and_dogs_small_4.h5')\n"
      ],
      "execution_count": null,
      "outputs": []
    },
    {
      "cell_type": "code",
      "metadata": {
        "id": "73PGMTgzCi4E"
      },
      "source": [
        "!wget 'https://drive.google.com/uc?export=download&id=1IZsk8aPzZvOYwemdiO9fl2L8d0VgsyWq' -O  cats_and_dogs_small_Trained_model.h5\n",
        "\n",
        "model = keras.models.load_model('cats_and_dogs_small_Trained_model.h5')"
      ],
      "execution_count": null,
      "outputs": []
    },
    {
      "cell_type": "code",
      "metadata": {
        "colab": {
          "base_uri": "https://localhost:8080/"
        },
        "id": "wYzCvU7fDDGU",
        "outputId": "c766d3ac-853c-483b-f5ba-9c548cb1d8ef"
      },
      "source": [
        "model.summary()"
      ],
      "execution_count": null,
      "outputs": [
        {
          "output_type": "stream",
          "text": [
            "Model: \"sequential\"\n",
            "_________________________________________________________________\n",
            "Layer (type)                 Output Shape              Param #   \n",
            "=================================================================\n",
            "vgg16 (Functional)           (None, 4, 4, 512)         14714688  \n",
            "_________________________________________________________________\n",
            "flatten (Flatten)            (None, 8192)              0         \n",
            "_________________________________________________________________\n",
            "dense (Dense)                (None, 256)               2097408   \n",
            "_________________________________________________________________\n",
            "dense_1 (Dense)              (None, 1)                 257       \n",
            "=================================================================\n",
            "Total params: 16,812,353\n",
            "Trainable params: 9,177,089\n",
            "Non-trainable params: 7,635,264\n",
            "_________________________________________________________________\n"
          ],
          "name": "stdout"
        }
      ]
    },
    {
      "cell_type": "code",
      "metadata": {
        "id": "1XEU8CvcJPYe",
        "colab": {
          "base_uri": "https://localhost:8080/",
          "height": 545
        },
        "outputId": "ebd93568-c58b-4dce-cf10-5664dd582cac"
      },
      "source": [
        "## Let's plot our results using the same plotting code as before:\n",
        "\n",
        "acc = history.history['acc']\n",
        "val_acc = history.history['val_acc']\n",
        "loss = history.history['loss']\n",
        "val_loss = history.history['val_loss']\n",
        "\n",
        "epochs = range(len(acc))\n",
        "\n",
        "plt.plot(epochs, acc, 'bo', label='Training acc')\n",
        "plt.plot(epochs, val_acc, 'b', label='Validation acc')\n",
        "plt.title('Training and validation accuracy')\n",
        "plt.legend()\n",
        "\n",
        "plt.figure()\n",
        "\n",
        "plt.plot(epochs, loss, 'bo', label='Training loss')\n",
        "plt.plot(epochs, val_loss, 'b', label='Validation loss')\n",
        "plt.title('Training and validation loss')\n",
        "plt.legend()\n",
        "\n",
        "plt.show()\n"
      ],
      "execution_count": null,
      "outputs": [
        {
          "output_type": "display_data",
          "data": {
            "image/png": "[encoded data removed]",
            "text/plain": [
              "<Figure size 432x288 with 1 Axes>"
            ]
          },
          "metadata": {
            "tags": [],
            "needs_background": "light"
          }
        },
        {
          "output_type": "display_data",
          "data": {
            "image/png": "[encoded data removed]",
            "text/plain": [
              "<Figure size 432x288 with 1 Axes>"
            ]
          },
          "metadata": {
            "tags": [],
            "needs_background": "light"
          }
        }
      ]
    },
    {
      "cell_type": "markdown",
      "metadata": {
        "id": "ZgYsCzUGDDhr"
      },
      "source": [
        "# Smoothing curve"
      ]
    },
    {
      "cell_type": "code",
      "metadata": {
        "id": "co4jYSLsJVgf"
      },
      "source": [
        "## As you have seen the  plot is quit noisy \n",
        "## use the following fuctnion to smooth out the result of acc and loss\n",
        "\n",
        "\n",
        "def smooth_curve(points, factor=0.8):\n",
        "  smoothed_points = []\n",
        "  for point in points:\n",
        "    if smoothed_points:\n",
        "      previous = smoothed_points[-1]\n",
        "      smoothed_points.append(previous * factor + point * (1 - factor))\n",
        "    else:\n",
        "      smoothed_points.append(point)\n",
        "  return smoothed_points\n",
        "\n",
        "  "
      ],
      "execution_count": null,
      "outputs": []
    },
    {
      "cell_type": "code",
      "metadata": {
        "id": "T_Ku4F6vJqd9",
        "colab": {
          "base_uri": "https://localhost:8080/",
          "height": 545
        },
        "outputId": "4c2f355e-1a12-4d0a-9a04-992bd01c9331"
      },
      "source": [
        "plt.plot(epochs,\n",
        "         smooth_curve(acc), 'bo', label='Smoothed training acc')\n",
        "plt.plot(epochs,\n",
        "         smooth_curve(val_acc), 'b', label='Smoothed validation acc')\n",
        "plt.title('Training and validation accuracy')\n",
        "plt.legend()\n",
        "\n",
        "plt.figure()\n",
        "\n",
        "plt.plot(epochs,\n",
        "         smooth_curve(loss), 'bo', label='Smoothed training loss')\n",
        "plt.plot(epochs,\n",
        "         smooth_curve(val_loss), 'b', label='Smoothed validation loss')\n",
        "plt.title('Training and validation loss')\n",
        "plt.legend()\n",
        "\n",
        "plt.show()"
      ],
      "execution_count": null,
      "outputs": [
        {
          "output_type": "display_data",
          "data": {
            "image/png": "[encoded data removed]",
            "text/plain": [
              "<Figure size 432x288 with 1 Axes>"
            ]
          },
          "metadata": {
            "tags": [],
            "needs_background": "light"
          }
        },
        {
          "output_type": "display_data",
          "data": {
            "image/png": "[encoded data removed]",
            "text/plain": [
              "<Figure size 432x288 with 1 Axes>"
            ]
          },
          "metadata": {
            "tags": [],
            "needs_background": "light"
          }
        }
      ]
    },
    {
      "cell_type": "code",
      "metadata": {
        "id": "-E-2lM2oJsmp"
      },
      "source": [
        "### You may wonder, how could accuracy improve if the loss isn't decreasing? \n",
        "# ( Is the model improving? )\n",
        "\n",
        "#ANSWER: The answer is simple: what we display is an average of pointwise \n",
        "#-loss values, but what actually matters for accuracy is the distribution\n",
        "#-of the loss values, not their average, since accuracy is the result of \n",
        "#-a binary thresholding of the class probability predicted by the model.\n",
        "#-The model may still be improving even if this isn't reflected in the average loss.\n",
        "\n",
        "\n",
        "\n",
        "\n"
      ],
      "execution_count": null,
      "outputs": []
    },
    {
      "cell_type": "markdown",
      "metadata": {
        "id": "QMBlboqit5ZW"
      },
      "source": [
        "# **Exercise**"
      ]
    },
    {
      "cell_type": "markdown",
      "metadata": {
        "id": "Qr9Thfbjt7i4"
      },
      "source": [
        "**1. 2.0 mark) Draw test data using the generator and pass them to the mode evaluate_generator to see machine prediction.**\n",
        "\n",
        "1 - use test_dataget.flow_from_drictionary to take test_dir and generate batch sizes of 20\n",
        "2- user evaluate_generator to evaluat your model, and report test_loss and test_acc over 50 steps)\n",
        "3- print the test acc vector\n",
        "(Hint: you need to generatre the data, you may use flow_from_directory. You must pass, dir, target_size,batch_size and class_mode to this routin.)\n",
        "\n",
        "\n",
        "\n"
      ]
    },
    {
      "cell_type": "markdown",
      "metadata": {
        "id": "sCkoOWI0pG6T"
      },
      "source": [
        "**2. 2.0 mark) Load the ResNet50 pre-trained model in a variable call model1:\n",
        "Note: Get the model from keras.applications.resnet50 import ResNet50**\n",
        "\n",
        "\n",
        "\n"
      ]
    },
    {
      "cell_type": "markdown",
      "metadata": {
        "id": "m4dSpAMypwK-"
      },
      "source": [
        "**3. 2.0 mark) Load the ResNet50 pre-trained model in a variable called model2 without its classifier layers. Your input shape should be 150x150 and it can take 3 channels:**\n",
        "Hint: Pass include_top and input_shape to your model constructor.\n",
        "\n",
        "\n"
      ]
    },
    {
      "cell_type": "markdown",
      "metadata": {
        "id": "IfX0sAAsrHvR"
      },
      "source": [
        "**4. 1.0 mark) Use model summary on model1 and model2 to observe the layers responsible for classification. Simply name those layers.**\n",
        "\n"
      ]
    },
    {
      "cell_type": "markdown",
      "metadata": {
        "id": "S-Kz7mjavs7N"
      },
      "source": [
        "**5. 2.0 mark) Given that we are in the Fine-tuning phase of our learning and we want to make sure our next trainings do not change the weights computed in the first 8 convolutional layers. Write a piece of code that that freezes those layers.**\n",
        "(Note: use get_layer method of model class to get a layer in order to access its attributes)\n",
        "\n"
      ]
    }
  ]
}