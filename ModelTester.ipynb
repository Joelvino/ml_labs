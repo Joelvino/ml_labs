{
  "nbformat": 4,
  "nbformat_minor": 0,
  "metadata": {
    "colab": {
      "name": "ModelTester",
      "private_outputs": true,
      "provenance": [],
      "authorship_tag": "ABX9TyNyzX54JxeX8BJsqltHshUJ",
      "include_colab_link": true
    },
    "kernelspec": {
      "name": "python3",
      "display_name": "Python 3"
    }
  },
  "cells": [
    {
      "cell_type": "markdown",
      "metadata": {
        "id": "view-in-github",
        "colab_type": "text"
      },
      "source": [
        "<a href=\"https://colab.research.google.com/github/YorkU-Cameroon/ml_labs/blob/main/ModelTester.ipynb\" target=\"_parent\"><img src=\"https://colab.research.google.com/assets/colab-badge.svg\" alt=\"Open In Colab\"/></a>"
      ]
    },
    {
      "cell_type": "code",
      "metadata": {
        "id": "nM93VA2u3VC9"
      },
      "source": [
        "def prepare_sample(sample):\r\n",
        "  \"\"\"\r\n",
        "  Converts the input from the format read from disk to the format needed\r\n",
        "  by the network for making predictions.\r\n",
        "\r\n",
        "  IMPORTANT: Must make no global assumptions. So if you need numpy for example \r\n",
        "  please do a local import. Which means the import must be inside of the \r\n",
        "  function.\r\n",
        "\r\n",
        "  :param sample: Input value to in format read from disk to be converted to\r\n",
        "  the format needed for the model to be able to do predictions\r\n",
        "  \r\n",
        "  :return: Converted sample for input to model for prediction\r\n",
        "  \"\"\"\r\n",
        "\r\n",
        "  pass # Write your implementation here"
      ],
      "execution_count": null,
      "outputs": []
    },
    {
      "cell_type": "code",
      "metadata": {
        "id": "aqOq8-Ox3Vei"
      },
      "source": [
        "import keras\r\n",
        "import yaml\r\n",
        "\r\n",
        "with open('papaya.yaml', 'r') as f:\r\n",
        "  data = yaml.load(f)\r\n",
        "\r\n",
        "loaded_model = keras.models.load_model(\"papaya_model.h5\")\r\n",
        "\r\n",
        "correct, total = 0, 0\r\n",
        "\r\n",
        "import numpy as np\r\n",
        "\r\n",
        "\r\n",
        "for i in range(len(data['X'])):\r\n",
        "  x = prepare_sample(data['X'][i])\r\n",
        "  x = np.array(x,ndmin=2) # make 2 dimentional like training data\r\n",
        "  y = data['y'][i][0]\r\n",
        "  if (1 if loaded_model(x, training=False) >= 0.5 else 0) == y:\r\n",
        "    correct += 1\r\n",
        "  total += 1\r\n",
        "accuracy = correct / total\r\n",
        "print(f'Accuracy: {accuracy*100}%. Got {correct} correct out of {total}')\r\n"
      ],
      "execution_count": null,
      "outputs": []
    }
  ]
}