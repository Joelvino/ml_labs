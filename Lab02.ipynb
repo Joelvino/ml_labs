{
  "nbformat": 4,
  "nbformat_minor": 0,
  "metadata": {
    "kernelspec": {
      "display_name": "Python 3",
      "language": "python",
      "name": "python3"
    },
    "language_info": {
      "codemirror_mode": {
        "name": "ipython",
        "version": 3
      },
      "file_extension": ".py",
      "mimetype": "text/x-python",
      "name": "python",
      "nbconvert_exporter": "python",
      "pygments_lexer": "ipython3",
      "version": "3.5.2"
    },
    "colab": {
      "name": "Lab02",
      "provenance": [],
      "collapsed_sections": [],
      "include_colab_link": true
    }
  },
  "cells": [
    {
      "cell_type": "markdown",
      "metadata": {
        "id": "view-in-github",
        "colab_type": "text"
      },
      "source": [
        "<a href=\"https://colab.research.google.com/github/YorkU-Cameroon/ml_labs/blob/main/Lab02.ipynb\" target=\"_parent\"><img src=\"https://colab.research.google.com/assets/colab-badge.svg\" alt=\"Open In Colab\"/></a>"
      ]
    },
    {
      "cell_type": "markdown",
      "metadata": {
        "id": "UqT873FcvjxW"
      },
      "source": [
        "# Lab 2\n",
        "---"
      ]
    },
    {
      "cell_type": "code",
      "metadata": {
        "id": "_yS243aihQrF"
      },
      "source": [
        " import keras\n",
        "keras.__version__"
      ],
      "execution_count": null,
      "outputs": []
    },
    {
      "cell_type": "markdown",
      "metadata": {
        "id": "4bz2mbFShQrS"
      },
      "source": [
        "# A first look at a neural network\n",
        "\n",
        "This notebook contains the code samples found in Chapter 2, Section 1 of [Deep Learning with Python](https://www.manning.com/books/deep-learning-with-python?a_aid=keras&a_bid=76564dff). Note that the original text features far more content, in particular further explanations and figures: in this notebook, you will only find source code and related comments.\n",
        "\n",
        "----\n",
        "\n",
        "We will now take a look at a first concrete example of a neural network, which makes use of the Python library Keras to learn to classify \n",
        "hand-written digits.\n",
        "\n",
        "The problem we are trying to solve here is to classify grayscale images of handwritten digits (28 pixels by 28 pixels), into their 10 \n",
        "categories (0 to 9). The dataset we will use is the MNIST dataset, a classic dataset in the machine learning community, which has been \n",
        "around for almost as long as the field itself and has been very intensively studied. It's a set of 60,000 training images, plus 10,000 test \n",
        "images, assembled by the National Institute of Standards and Technology (the NIST in MNIST) in the 1980s. You can think of \"solving\" MNIST \n",
        "as the \"Hello World\" of deep learning -- it's what you do to verify that your algorithms are working as expected. As you become a machine \n",
        "learning practitioner, you will see MNIST come up over and over again, in scientific papers, blog posts, and so on. Some example digits:\n",
        "<img src=\"https://upload.wikimedia.org/wikipedia/commons/2/27/MnistExamples.png\" alt=\"MNIST examples of handwritten digits\">"
      ]
    },
    {
      "cell_type": "markdown",
      "metadata": {
        "id": "jSzibsWOhQrT"
      },
      "source": [
        "The MNIST dataset comes pre-loaded in Keras, in the form of a set of four Numpy arrays:"
      ]
    },
    {
      "cell_type": "code",
      "metadata": {
        "id": "WQMPjwHVhQrU"
      },
      "source": [
        "from keras.datasets import mnist\n",
        "\n",
        "(train_images, train_labels), (test_images, test_labels) = mnist.load_data()"
      ],
      "execution_count": null,
      "outputs": []
    },
    {
      "cell_type": "markdown",
      "metadata": {
        "id": "Ci0aEzq0hQrc"
      },
      "source": [
        "`train_images` and `train_labels` form the \"training set\", the data that the model will learn from. The model will then be tested on the \n",
        "\"test set\", `test_images` and `test_labels`. Our images are encoded as Numpy arrays, and the labels are simply an array of digits, ranging \n",
        "from 0 to 9. There is a one-to-one correspondence between the images and the labels.\n",
        "\n",
        "Let's have a look at the training data:"
      ]
    },
    {
      "cell_type": "code",
      "metadata": {
        "id": "xWQ8_6oihQrd"
      },
      "source": [
        "# Note that the shape here reflects that we have 60,000 training images and\n",
        "# each image is 28x28 pixels.\n",
        "train_images.shape"
      ],
      "execution_count": null,
      "outputs": []
    },
    {
      "cell_type": "code",
      "metadata": {
        "id": "BQa-WGSLhQrl"
      },
      "source": [
        "len(train_labels)"
      ],
      "execution_count": null,
      "outputs": []
    },
    {
      "cell_type": "code",
      "metadata": {
        "id": "MDFpeIdshQrt"
      },
      "source": [
        "# each image has a label indicating what handwritten number is written in it\n",
        "train_labels"
      ],
      "execution_count": null,
      "outputs": []
    },
    {
      "cell_type": "markdown",
      "metadata": {
        "id": "iZ9Js0PghQr1"
      },
      "source": [
        "Let's have a look at the test data:"
      ]
    },
    {
      "cell_type": "code",
      "metadata": {
        "id": "pjImGQkmhQr2"
      },
      "source": [
        "# 10,000 images of 28x28 pixels\n",
        "test_images.shape"
      ],
      "execution_count": null,
      "outputs": []
    },
    {
      "cell_type": "code",
      "metadata": {
        "id": "DxTi35XLhQr_"
      },
      "source": [
        "len(test_labels)"
      ],
      "execution_count": null,
      "outputs": []
    },
    {
      "cell_type": "code",
      "metadata": {
        "id": "24inJ2y1hQsI"
      },
      "source": [
        "test_labels"
      ],
      "execution_count": null,
      "outputs": []
    },
    {
      "cell_type": "markdown",
      "metadata": {
        "id": "gtvwYD-3Dia8"
      },
      "source": [
        "Finally, let's see how to display an image:"
      ]
    },
    {
      "cell_type": "code",
      "metadata": {
        "id": "kKUdBCIdaw99"
      },
      "source": [
        "import matplotlib.pyplot as plt\n",
        "\n",
        "# imshow() is a matplotlib method that displays an image, treating each element\n",
        "# of the input matrix as a pixel where the value indicates a colour value.\n",
        "# In this case we are mapping to grayscale, but multiplying by -1 to invert\n",
        "# black and white.\n",
        "plt.imshow(train_images[75] * -1, cmap='gray');"
      ],
      "execution_count": null,
      "outputs": []
    },
    {
      "cell_type": "code",
      "metadata": {
        "colab": {
          "base_uri": "https://localhost:8080/"
        },
        "id": "zLTE4U3yjto3",
        "outputId": "6e1d3879-cb74-4b8a-bc91-c306db99013c"
      },
      "source": [
        "# as this output shows, the image at position 75 (the 76th image), is a 0.\n",
        "# The label number for the dataset corresponds to the digit represented, so a\n",
        "# label of 5 means the image shows a 5, a 6 means a 6, and so on.\n",
        "train_labels[300]"
      ],
      "execution_count": null,
      "outputs": [
        {
          "output_type": "execute_result",
          "data": {
            "text/plain": [
              "8"
            ]
          },
          "metadata": {
            "tags": []
          },
          "execution_count": 22
        }
      ]
    },
    {
      "cell_type": "markdown",
      "metadata": {
        "id": "GOAwadRShQsV"
      },
      "source": [
        "Our workflow will be as follows: first we will present our neural network with the training data, `train_images` and `train_labels`. The \n",
        "network will then learn to associate images and labels. Finally, we will ask the network to produce predictions for `test_images`, and we \n",
        "will verify if these predictions match the labels from `test_labels`.\n",
        "\n",
        "Let's build our network -- again, remember that you aren't supposed to understand everything about this example just yet."
      ]
    },
    {
      "cell_type": "code",
      "metadata": {
        "id": "q8jCkAffhQsX"
      },
      "source": [
        "from keras import models\n",
        "from keras import layers\n",
        "\n",
        "network = models.Sequential()\n",
        "network.add(layers.Dense(512, activation='relu', input_shape=(28 * 28,)))\n",
        "network.add(layers.Dense(10, activation='softmax'))"
      ],
      "execution_count": null,
      "outputs": []
    },
    {
      "cell_type": "markdown",
      "metadata": {
        "id": "fOTMKpNyhQsj"
      },
      "source": [
        "\n",
        "The core building block of neural networks is the \"layer\", a data-processing module which you can conceive as a \"filter\" for data. Some \n",
        "data comes in, and comes out in a more useful form. Precisely, layers extract _representations_ out of the data fed into them -- hopefully \n",
        "representations that are more meaningful for the problem at hand. Most of deep learning really consists of chaining together simple layers \n",
        "which will implement a form of progressive \"data distillation\". A deep learning model is like a sieve for data processing, made of a \n",
        "succession of increasingly refined data filters -- the \"layers\".\n",
        "\n",
        "Here our network consists of a sequence of two `Dense` layers, which are densely-connected (also called \"fully-connected\") neural layers. \n",
        "The second (and last) layer is a 10-way \"softmax\" layer, which means it will return an array of 10 probability scores (summing to 1). Each \n",
        "score will be the probability that the current digit image belongs to one of our 10 digit classes.\n",
        "\n",
        "To make our network ready for training, we need to pick three more things, as part of \"compilation\" step:\n",
        "\n",
        "* A loss function: the is how the network will be able to measure how good a job it is doing on its training data, and thus how it will be \n",
        "able to steer itself in the right direction.\n",
        "* An optimizer: this is the mechanism through which the network will update itself based on the data it sees and its loss function.\n",
        "* Metrics to monitor during training and testing. Here we will only care about accuracy (the fraction of the images that were correctly \n",
        "classified).\n",
        "\n",
        "The exact purpose of the loss function and the optimizer will be made clear throughout the next two chapters."
      ]
    },
    {
      "cell_type": "code",
      "metadata": {
        "id": "-1_-W2cDhQsk"
      },
      "source": [
        "network.compile(optimizer='rmsprop',\n",
        "                loss='categorical_crossentropy',\n",
        "                metrics=['accuracy'])"
      ],
      "execution_count": null,
      "outputs": []
    },
    {
      "cell_type": "markdown",
      "metadata": {
        "id": "Cz0T7HwnhQsr"
      },
      "source": [
        "\n",
        "Before training, we will preprocess our data by reshaping it into the shape that the network expects, and scaling it so that all values are in \n",
        "the `[0, 1]` interval. Previously, our training images for instance were stored in an array of shape `(60000, 28, 28)` of type `uint8` with \n",
        "values in the `[0, 255]` interval. We transform it into a `float32` array of shape `(60000, 28 * 28)` with values between 0 and 1."
      ]
    },
    {
      "cell_type": "code",
      "metadata": {
        "id": "Qszy3UNxhQst"
      },
      "source": [
        "train_images = train_images.reshape((60000, 28 * 28))\n",
        "train_images = train_images.astype('float32') / 255\n",
        "\n",
        "test_images = test_images.reshape((10000, 28 * 28))\n",
        "test_images = test_images.astype('float32') / 255"
      ],
      "execution_count": null,
      "outputs": []
    },
    {
      "cell_type": "markdown",
      "metadata": {
        "id": "evtpvqUJhQs3"
      },
      "source": [
        "We also need to categorically encode the labels, a step which we explain in chapter 3:"
      ]
    },
    {
      "cell_type": "code",
      "metadata": {
        "id": "Wo7Rr65PhQs4"
      },
      "source": [
        "from tensorflow.keras.utils import to_categorical\n",
        "\n",
        "train_labels = to_categorical(train_labels)\n",
        "test_labels = to_categorical(test_labels)"
      ],
      "execution_count": null,
      "outputs": []
    },
    {
      "cell_type": "markdown",
      "metadata": {
        "id": "jnPSX_8vhQtC"
      },
      "source": [
        "We are now ready to train our network, which in Keras is done via a call to the `fit` method of the network: \n",
        "we \"fit\" the model to its training data."
      ]
    },
    {
      "cell_type": "code",
      "metadata": {
        "id": "orDr3O3chQtD"
      },
      "source": [
        "network.fit(train_images, train_labels, epochs=5, batch_size=128)"
      ],
      "execution_count": null,
      "outputs": []
    },
    {
      "cell_type": "markdown",
      "metadata": {
        "id": "EbgFqe3shQtK"
      },
      "source": [
        "Two quantities are being displayed during training: the \"loss\" of the network over the training data, and the accuracy of the network over \n",
        "the training data.\n",
        "\n",
        "We quickly reach an accuracy of 0.989 (i.e. 98.9%) on the training data. Now let's check that our model performs well on the test set too:"
      ]
    },
    {
      "cell_type": "code",
      "metadata": {
        "id": "405bXF4mhQtN"
      },
      "source": [
        "test_loss, test_acc = network.evaluate(test_images, test_labels)"
      ],
      "execution_count": null,
      "outputs": []
    },
    {
      "cell_type": "code",
      "metadata": {
        "id": "qnoTct72hQtU"
      },
      "source": [
        "print('test_acc:', test_acc)"
      ],
      "execution_count": null,
      "outputs": []
    },
    {
      "cell_type": "markdown",
      "metadata": {
        "id": "CwYZxJozhQta"
      },
      "source": [
        "\n",
        "Our test set accuracy turns out to be 97.8% -- that's quite a bit lower than the training set accuracy. \n",
        "This gap between training accuracy and test accuracy is an example of \"overfitting\", \n",
        "the fact that machine learning models tend to perform worse on new data than on their training data. \n",
        "Overfitting will be a central topic in chapter 3.\n",
        "\n",
        "This concludes our very first example -- you just saw how we could build and a train a neural network to classify handwritten digits, in \n",
        "less than 20 lines of Python code. In the next chapter, we will go in detail over every moving piece we just previewed, and clarify what is really \n",
        "going on behind the scenes. You will learn about \"tensors\", the data-storing objects going into the network, about tensor operations, which \n",
        "layers are made of, and about gradient descent, which allows our network to learn from its training examples."
      ]
    },
    {
      "cell_type": "markdown",
      "metadata": {
        "id": "7Mz4hOBMEZmi"
      },
      "source": [
        "# **Lab Questions**\n",
        "\n",
        "---\n",
        "\n",
        "**1. What does the output of the cell below tell us?** (1 Mark)"
      ]
    },
    {
      "cell_type": "code",
      "metadata": {
        "id": "bVns6iCXEntS"
      },
      "source": [
        "train_labels[300]"
      ],
      "execution_count": null,
      "outputs": []
    },
    {
      "cell_type": "markdown",
      "metadata": {
        "id": "S6mtqoDelGNM"
      },
      "source": [
        "*Write answer here*"
      ]
    },
    {
      "cell_type": "markdown",
      "metadata": {
        "id": "1RUeOwj1mVsm"
      },
      "source": [
        "**2. Why does the last layer of the network we trained above have 10 nodes? Why does it have to have that many?** (1 Mark)"
      ]
    },
    {
      "cell_type": "markdown",
      "metadata": {
        "id": "ixlaZ4F-majy"
      },
      "source": [
        "*Write answer here*"
      ]
    },
    {
      "cell_type": "markdown",
      "metadata": {
        "id": "1B7T4F7nmqEP"
      },
      "source": [
        "**3. How many nodes does the input layer have? Why does it have to have that many?** (1 Mark)"
      ]
    },
    {
      "cell_type": "markdown",
      "metadata": {
        "id": "KRf5d1jpmtlM"
      },
      "source": [
        "*Write answer here*"
      ]
    },
    {
      "cell_type": "markdown",
      "metadata": {
        "id": "4c-m00Fdm7I_"
      },
      "source": [
        "**4. How many nodes does the hidden layer have? Could it have had a different number? (hint: try it out)** (1 Mark)"
      ]
    },
    {
      "cell_type": "markdown",
      "metadata": {
        "id": "AQtX3Mn7m85P"
      },
      "source": [
        "*Write answer here*\n",
        "\n",
        "\n"
      ]
    },
    {
      "cell_type": "markdown",
      "metadata": {
        "id": "Fp4Zk3kcm_eS"
      },
      "source": [
        "**5. Train the model we trained above for another 10 [epochs](https://machinelearningmastery.com/difference-between-a-batch-and-an-epoch/) (Note, an epoch is a single iteration over all samples in the dataset). Does the model improve from the additional training?** (1 Mark)\n",
        "\n",
        "hint: Find the epoch variable and change its value. Notice that if you run the training cell another 2 times in a row you will achieve the same result.\n"
      ]
    },
    {
      "cell_type": "markdown",
      "metadata": {
        "id": "WapUwP-pnCmd"
      },
      "source": [
        "*Write answer here*"
      ]
    },
    {
      "cell_type": "markdown",
      "metadata": {
        "id": "8QXM6Hf_E6x9"
      },
      "source": [
        "**6. Modify the code below so that it uses stochastic gradient descent as the optimizer instead of rmsprop. Which results in better performance on this dataset after 5 epochs, SGD or rmsprop? How do you know?** (2 Marks)\n",
        "\n",
        "In class we have discussed gradient descent. Gradient descent is the fundamental optimization method for neural networks, but there are more advanced optimization techniques that build on it, such as rmsprop (which was used in the model we trained above). Don't worry about understanding these advanced optimizers for this course - just remember that they exist and are serving the same role as gradient descent, but with some modifications.\n",
        "\n",
        "\n",
        "hint: use 'sgd' to indicate stochastic gradient descent in the code. Also make sure you calculate the **test** accuracy after training.\n"
      ]
    },
    {
      "cell_type": "code",
      "metadata": {
        "id": "4bh7TLt7EtaU"
      },
      "source": [
        "#The network is identical to the one we trained above. Change it to use\n",
        "# stochastic gradient descent ('sgd').\n",
        "network2 = models.Sequential()\n",
        "network2.add(layers.Dense(512, activation='relu', input_shape=(28 * 28,)))\n",
        "network2.add(layers.Dense(10, activation='softmax'))\n",
        "\n",
        "network2.compile(optimizer='rmsprop',\n",
        "                loss='categorical_crossentropy',\n",
        "                metrics=['accuracy'])\n",
        "network2.fit(train_images, train_labels, epochs=5, batch_size=128)"
      ],
      "execution_count": null,
      "outputs": []
    },
    {
      "cell_type": "markdown",
      "metadata": {
        "id": "WZ0i58hGnIYF"
      },
      "source": [
        "*Write answer here*"
      ]
    },
    {
      "cell_type": "markdown",
      "metadata": {
        "id": "NjgBQghHngH4"
      },
      "source": [
        "\n",
        "**7. What dimension tensors are our train_labels and train_images variables?** (1 mark)\n",
        "\n",
        "Our data is stored in Numpy arrays. In general, neural networks use data that is stored in Tensors, which is a term for a container for numbers. Unlike a vector (which is a 1 dimensional tensor) or matrix (2D tensor), a tensor can have an arbitrary number of dimensions. In working with Keras in this course, our tensors are Numpy arrays with a varying number of dimensions.\n"
      ]
    },
    {
      "cell_type": "markdown",
      "metadata": {
        "id": "Hi8-j1dDnYl6"
      },
      "source": [
        "*Write answer here*"
      ]
    },
    {
      "cell_type": "markdown",
      "metadata": {
        "id": "9kV-dzNZnROz"
      },
      "source": [
        "**8. Create a new neural network with between 2 and 4 hidden layers, and fewer than 256 nodes per layer. Report the training and test accuracy after 3 and 5 epochs of training respectively. Also report the number of layers and number of nodes per layer that you used to acheive these results.** (4 marks)\n",
        "\n",
        "If you want, you are welcome to experiment with other aspects of the network such as optimizers (e.g. 'adam') or different activation functions (e.g. sigmoid)."
      ]
    },
    {
      "cell_type": "markdown",
      "metadata": {
        "id": "9UTXvhjdnTVn"
      },
      "source": [
        "*Write answer here*"
      ]
    },
    {
      "cell_type": "markdown",
      "metadata": {
        "id": "oqi-mSHEnWxN"
      },
      "source": [
        "**9. Imagine you have designed a machine learning system for a bank. The system uses an aritifical neural network to decide whether to approve mortages based on client income, banking and credit history, and some demographic data such as gender, ethnic background and age. The network has many layers and over 2 million parameters (weights). A client is asking you why their desired mortgage was not approved by the system and they are accusing you of discrimination based on gender. What level of detail are you able to provide them in your response by simply looking at the values of your weights? Can you easily check whether your model is making decisions based on their gender? Why or why not?** (3 marks)\n"
      ]
    },
    {
      "cell_type": "markdown",
      "metadata": {
        "id": "CaNN51KZnOWt"
      },
      "source": [
        "*Write answer here*"
      ]
    }
  ]
}